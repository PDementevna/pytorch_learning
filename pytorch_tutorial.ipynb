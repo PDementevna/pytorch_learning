{
 "nbformat": 4,
 "nbformat_minor": 0,
 "metadata": {
  "colab": {
   "name": "pytorch_tutorial.ipynb",
   "provenance": [],
   "collapsed_sections": []
  },
  "kernelspec": {
   "name": "pycharm-2e2d97f4",
   "language": "python",
   "display_name": "PyCharm (pytorch_learning)"
  },
  "accelerator": "GPU"
 },
 "cells": [
  {
   "cell_type": "markdown",
   "source": [
    "## Load git"
   ],
   "metadata": {
    "collapsed": false,
    "pycharm": {
     "name": "#%% md\n"
    }
   }
  },
  {
   "cell_type": "code",
   "execution_count": 1,
   "outputs": [],
   "source": [
    "try:\n",
    "    import google.colab\n",
    "    IN_COLAB = True\n",
    "except ImportError:\n",
    "    IN_COLAB = False\n",
    "if IN_COLAB:\n",
    "    # Change MisterMap to your github account name and make fun\n",
    "    !pip install --upgrade -q git+https://github.com/PDementevna/pytorch_learning.git\n"
   ],
   "metadata": {
    "collapsed": false,
    "pycharm": {
     "name": "#%%\n"
    }
   }
  },
  {
   "cell_type": "code",
   "execution_count": null,
   "outputs": [],
   "source": [
    "from google.colab import output\n",
    "\n",
    "def notify_start():\n",
    "    output.eval_js('new Audio(\"https://ssl.gstatic.com/dictionary/static/' +\\\n",
    "        'pronunciation/2019-10-21/audio/tr/train_en_us_1.mp3\").play()')\n",
    "    output.eval_js('new Audio(\"https://ssl.gstatic.com/dictionary/static/' +\\\n",
    "        'pronunciation/2019-10-21/audio/st/start_en_us_1.mp3\").play()')\n",
    "\n",
    "def notify_end():\n",
    "    output.eval_js('new Audio(\"https://ssl.gstatic.com/dictionary/static/' +\\\n",
    "        'pronunciation/2019-10-21/audio/tr/train_en_us_1.mp3\").play()')\n",
    "    output.eval_js('new Audio(\"https://ssl.gstatic.com/dictionary/static/' +\\\n",
    "        'pronunciation/2019-10-21/audio/do/done_en_us_1.mp3\").play()')"
   ],
   "metadata": {
    "collapsed": false,
    "pycharm": {
     "name": "#%%\n"
    }
   }
  },
  {
   "cell_type": "code",
   "execution_count": null,
   "outputs": [],
   "source": [
    "from google.colab import drive\n",
    "drive.mount('/content/drive')\n",
    "MAIN_DIR = '/content/drive/My Drive/dataset'\n"
   ],
   "metadata": {
    "collapsed": false,
    "pycharm": {
     "name": "#%%\n"
    }
   }
  },
  {
   "cell_type": "code",
   "metadata": {
    "id": "6j52xeY9WcBp",
    "colab_type": "code",
    "colab": {}
   },
   "source": [
    "import torch \n",
    "from torchvision import transforms, datasets\n",
    "import torchvision "
   ],
   "execution_count": 0,
   "outputs": []
  },
  {
   "cell_type": "code",
   "metadata": {
    "id": "HBMykiw9W3CN",
    "colab_type": "code",
    "colab": {}
   },
   "source": [
    "\n",
    "train = datasets.MNIST(\"\", train=True, download=True, transform=transforms.Compose([transforms.ToTensor()]))\n",
    "\n",
    "test = datasets.MNIST(\"\", train=False, download=True, transform=transforms.Compose([transforms.ToTensor()]))"
   ],
   "execution_count": 0,
   "outputs": []
  },
  {
   "cell_type": "markdown",
   "metadata": {
    "id": "jHOB7ygRY9bI",
    "colab_type": "text"
   },
   "source": [
    "###Load data from the dataset"
   ]
  },
  {
   "cell_type": "code",
   "metadata": {
    "id": "xysZJt5kYOch",
    "colab_type": "code",
    "colab": {}
   },
   "source": [
    "trainset = torch.utils.data.DataLoader(train, batch_size = 10, shuffle=True)\n",
    "testset = torch.utils.data.DataLoader(test, batch_size = 10, shuffle=True)"
   ],
   "execution_count": 0,
   "outputs": []
  },
  {
   "cell_type": "markdown",
   "metadata": {
    "id": "W8o4jyw6ZPbp",
    "colab_type": "text"
   },
   "source": [
    "###Batch_size: the number of samles which the neural network will get in one run (usually from 8 to 64, regardless to the memory size of the PC)\n",
    "\n",
    "###Shuffle: we need to show to the neural network a variety of data in order to don't have the unexpected result"
   ]
  },
  {
   "cell_type": "code",
   "metadata": {
    "id": "lDdFu8nAY5bf",
    "colab_type": "code",
    "colab": {
     "base_uri": "https://localhost:8080/",
     "height": 952
    },
    "outputId": "3cf1dcbb-5af4-450a-ad48-adf940d6898f"
   },
   "source": [
    "for data in trainset:\n",
    "  print(data)\n",
    "  break"
   ],
   "execution_count": 4,
   "outputs": [
    {
     "output_type": "stream",
     "text": [
      "[tensor([[[[0., 0., 0.,  ..., 0., 0., 0.],\n",
      "          [0., 0., 0.,  ..., 0., 0., 0.],\n",
      "          [0., 0., 0.,  ..., 0., 0., 0.],\n",
      "          ...,\n",
      "          [0., 0., 0.,  ..., 0., 0., 0.],\n",
      "          [0., 0., 0.,  ..., 0., 0., 0.],\n",
      "          [0., 0., 0.,  ..., 0., 0., 0.]]],\n",
      "\n",
      "\n",
      "        [[[0., 0., 0.,  ..., 0., 0., 0.],\n",
      "          [0., 0., 0.,  ..., 0., 0., 0.],\n",
      "          [0., 0., 0.,  ..., 0., 0., 0.],\n",
      "          ...,\n",
      "          [0., 0., 0.,  ..., 0., 0., 0.],\n",
      "          [0., 0., 0.,  ..., 0., 0., 0.],\n",
      "          [0., 0., 0.,  ..., 0., 0., 0.]]],\n",
      "\n",
      "\n",
      "        [[[0., 0., 0.,  ..., 0., 0., 0.],\n",
      "          [0., 0., 0.,  ..., 0., 0., 0.],\n",
      "          [0., 0., 0.,  ..., 0., 0., 0.],\n",
      "          ...,\n",
      "          [0., 0., 0.,  ..., 0., 0., 0.],\n",
      "          [0., 0., 0.,  ..., 0., 0., 0.],\n",
      "          [0., 0., 0.,  ..., 0., 0., 0.]]],\n",
      "\n",
      "\n",
      "        ...,\n",
      "\n",
      "\n",
      "        [[[0., 0., 0.,  ..., 0., 0., 0.],\n",
      "          [0., 0., 0.,  ..., 0., 0., 0.],\n",
      "          [0., 0., 0.,  ..., 0., 0., 0.],\n",
      "          ...,\n",
      "          [0., 0., 0.,  ..., 0., 0., 0.],\n",
      "          [0., 0., 0.,  ..., 0., 0., 0.],\n",
      "          [0., 0., 0.,  ..., 0., 0., 0.]]],\n",
      "\n",
      "\n",
      "        [[[0., 0., 0.,  ..., 0., 0., 0.],\n",
      "          [0., 0., 0.,  ..., 0., 0., 0.],\n",
      "          [0., 0., 0.,  ..., 0., 0., 0.],\n",
      "          ...,\n",
      "          [0., 0., 0.,  ..., 0., 0., 0.],\n",
      "          [0., 0., 0.,  ..., 0., 0., 0.],\n",
      "          [0., 0., 0.,  ..., 0., 0., 0.]]],\n",
      "\n",
      "\n",
      "        [[[0., 0., 0.,  ..., 0., 0., 0.],\n",
      "          [0., 0., 0.,  ..., 0., 0., 0.],\n",
      "          [0., 0., 0.,  ..., 0., 0., 0.],\n",
      "          ...,\n",
      "          [0., 0., 0.,  ..., 0., 0., 0.],\n",
      "          [0., 0., 0.,  ..., 0., 0., 0.],\n",
      "          [0., 0., 0.,  ..., 0., 0., 0.]]]]), tensor([2, 9, 0, 8, 4, 7, 7, 3, 5, 4])]\n"
     ],
     "name": "stdout"
    }
   ]
  },
  {
   "cell_type": "markdown",
   "metadata": {
    "id": "RKD_N5ULeGGB",
    "colab_type": "text"
   },
   "source": [
    "In the data variable there is 2 tensors: \n",
    "\n",
    "1) for the image (there are 10 images in batch, so if we want to show first image, we should get access to data[0][0]: 0 - for 1 tensor, and 0 in the tensor)\n",
    "\n",
    "2) for the actual true numbers, so if we want to show first true value correspondent to data[0][0], we need to get access to data[1][0]: 1 - for the 2nd tensor, 0 - in the tensor"
   ]
  },
  {
   "cell_type": "code",
   "metadata": {
    "id": "j2m1kHPgdKvk",
    "colab_type": "code",
    "colab": {
     "base_uri": "https://localhost:8080/",
     "height": 34
    },
    "outputId": "57016cbf-f689-49f3-d45a-d4a81066e708"
   },
   "source": [
    "x, y = data[0][0], data[1][0]\n",
    "print(y)"
   ],
   "execution_count": 5,
   "outputs": [
    {
     "output_type": "stream",
     "text": [
      "tensor(2)\n"
     ],
     "name": "stdout"
    }
   ]
  },
  {
   "cell_type": "code",
   "metadata": {
    "id": "n9Q63heifJy-",
    "colab_type": "code",
    "colab": {}
   },
   "source": [
    "import matplotlib.pyplot as plt\n"
   ],
   "execution_count": 0,
   "outputs": []
  },
  {
   "cell_type": "code",
   "metadata": {
    "id": "r5LKMK1TfmhY",
    "colab_type": "code",
    "colab": {
     "base_uri": "https://localhost:8080/",
     "height": 34
    },
    "outputId": "cf2552cb-cde0-4778-c94e-634e38a9bb5d"
   },
   "source": [
    "data[0][0].shape"
   ],
   "execution_count": 7,
   "outputs": [
    {
     "output_type": "execute_result",
     "data": {
      "text/plain": [
       "torch.Size([1, 28, 28])"
      ]
     },
     "metadata": {
      "tags": []
     },
     "execution_count": 7
    }
   ]
  },
  {
   "cell_type": "markdown",
   "metadata": {
    "id": "KqmH2tyrfrgV",
    "colab_type": "text"
   },
   "source": [
    "The shape of the data[0][0] is not convienient one, it has 1 in the first dimension for torch manipulations, therefore we need to squeeze data or use view parameter"
   ]
  },
  {
   "cell_type": "code",
   "metadata": {
    "id": "dbvX8uGjh8w5",
    "colab_type": "code",
    "colab": {
     "base_uri": "https://localhost:8080/",
     "height": 34
    },
    "outputId": "62347caf-0f43-4159-ecfd-329df5c89edb"
   },
   "source": [
    "data[0][0].squeeze().shape"
   ],
   "execution_count": 8,
   "outputs": [
    {
     "output_type": "execute_result",
     "data": {
      "text/plain": [
       "torch.Size([28, 28])"
      ]
     },
     "metadata": {
      "tags": []
     },
     "execution_count": 8
    }
   ]
  },
  {
   "cell_type": "code",
   "metadata": {
    "id": "3eR8_HwfiC6E",
    "colab_type": "code",
    "colab": {
     "base_uri": "https://localhost:8080/",
     "height": 34
    },
    "outputId": "60bba779-5f31-475f-fb6f-c2d03feae617"
   },
   "source": [
    "data[0][0].view(28,28).shape"
   ],
   "execution_count": 9,
   "outputs": [
    {
     "output_type": "execute_result",
     "data": {
      "text/plain": [
       "torch.Size([28, 28])"
      ]
     },
     "metadata": {
      "tags": []
     },
     "execution_count": 9
    }
   ]
  },
  {
   "cell_type": "code",
   "metadata": {
    "id": "Ve4chZt8fPB1",
    "colab_type": "code",
    "colab": {
     "base_uri": "https://localhost:8080/",
     "height": 282
    },
    "outputId": "3874acdb-aed7-42f9-c365-2fdfe0adea8c"
   },
   "source": [
    "plt.imshow(data[0][0].squeeze(), cmap='gray')"
   ],
   "execution_count": 10,
   "outputs": [
    {
     "output_type": "execute_result",
     "data": {
      "text/plain": [
       "<matplotlib.image.AxesImage at 0x7f5d295c1c50>"
      ]
     },
     "metadata": {
      "tags": []
     },
     "execution_count": 10
    },
    {
     "output_type": "display_data",
     "data": {
      "image/png": "[encoded data removed]",
      "text/plain": [
       "<Figure size 432x288 with 1 Axes>"
      ]
     },
     "metadata": {
      "tags": [],
      "needs_background": "light"
     }
    }
   ]
  },
  {
   "cell_type": "markdown",
   "metadata": {
    "id": "Dble3CNvk3gn",
    "colab_type": "text"
   },
   "source": [
    "###We need to be sure that our data is totally ballanced, so we will check how many samles for each number we have in dataset"
   ]
  },
  {
   "cell_type": "code",
   "metadata": {
    "id": "B8Znn-G7iLzN",
    "colab_type": "code",
    "colab": {
     "base_uri": "https://localhost:8080/",
     "height": 34
    },
    "outputId": "9bf02fa9-9304-431e-a841-8394159612c9"
   },
   "source": [
    "total = 0\n",
    "counter_dict = {0: 0, 1: 0, 2: 0, 3: 0, 4: 0 , 5: 0, 6: 0, 7: 0, 8: 0, 9: 0}\n",
    "\n",
    "for data in trainset:\n",
    "  Xs, ys = data\n",
    "  for y in ys:\n",
    "    counter_dict[int(y)] += 1\n",
    "    total += 1\n",
    "  \n",
    "print(counter_dict)"
   ],
   "execution_count": 11,
   "outputs": [
    {
     "output_type": "stream",
     "text": [
      "{0: 5923, 1: 6742, 2: 5958, 3: 6131, 4: 5842, 5: 5421, 6: 5918, 7: 6265, 8: 5851, 9: 5949}\n"
     ],
     "name": "stdout"
    }
   ]
  },
  {
   "cell_type": "code",
   "metadata": {
    "id": "NXtwptdnkZcf",
    "colab_type": "code",
    "colab": {
     "base_uri": "https://localhost:8080/",
     "height": 187
    },
    "outputId": "56599eb8-5c4e-4118-fd41-2d7bfca6e918"
   },
   "source": [
    "for i in counter_dict:\n",
    "  print(f\"{i}: {counter_dict[i]/total*100}\")"
   ],
   "execution_count": 12,
   "outputs": [
    {
     "output_type": "stream",
     "text": [
      "0: 9.871666666666666\n",
      "1: 11.236666666666666\n",
      "2: 9.93\n",
      "3: 10.218333333333334\n",
      "4: 9.736666666666666\n",
      "5: 9.035\n",
      "6: 9.863333333333333\n",
      "7: 10.441666666666666\n",
      "8: 9.751666666666667\n",
      "9: 9.915000000000001\n"
     ],
     "name": "stdout"
    }
   ]
  },
  {
   "cell_type": "markdown",
   "metadata": {
    "id": "Ckn5QYZPlJV3",
    "colab_type": "text"
   },
   "source": [
    "####So the data is pretty balanced, we don't need to change something"
   ]
  },
  {
   "cell_type": "markdown",
   "metadata": {
    "id": "DUmCthxwl-tQ",
    "colab_type": "text"
   },
   "source": [
    "##Let's create neural network"
   ]
  },
  {
   "cell_type": "code",
   "metadata": {
    "id": "Vn7_oTNFkvr3",
    "colab_type": "code",
    "colab": {}
   },
   "source": [
    "import torch.nn as nn\n",
    "import torch.nn.functional as F"
   ],
   "execution_count": 0,
   "outputs": []
  },
  {
   "cell_type": "code",
   "metadata": {
    "id": "1smDe3KgmHE3",
    "colab_type": "code",
    "colab": {
     "base_uri": "https://localhost:8080/"
    },
    "outputId": "720603d3-17be-4de5-c533-fa0c8239ea4c"
   },
   "source": [
    "class Net(nn.Module):\n",
    "\n",
    "  def __init__(self):\n",
    "    # launching the inicialization of parent class nn.Module in next line \n",
    "    super().__init__() \n",
    "\n",
    "    # definition of the fully conected layers (fc)\n",
    "    self.fc1 = nn.Linear(28*28, 64)\n",
    "    # input for the first layer is the flatten image and output can be any number but we stay with 64\n",
    "    # next layer has to take output number from the previous layer, so in our case it's 64. Let's leave 64 for output as well\n",
    "    self.fc2 = nn.Linear(64, 64)\n",
    "    self.fc3 = nn.Linear(64, 64)\n",
    "    # fo the last layer we have 64 as input but in the result we expect 10 classes (because we have 10 numbers: 0 1 2 3 4 5 6 7 8 9 10)\n",
    "    self.fc4 = nn.Linear(64, 10)\n",
    "\n",
    "  def forward(self, x):\n",
    "    x = F.relu(self.fc1(x))\n",
    "    # relu - it's an activation function which is has to be in order to magnitude the output from layers in right way (apply the sigmoid function\n",
    "    # and return the result in range from 0 to 1)\n",
    "    x = F.relu(self.fc2(x))\n",
    "\n",
    "    # here in forward method we can put some logic with operator if (if we need it)\n",
    "\n",
    "    x = F.relu(self.fc3(x))\n",
    "    x = self.fc4(x)\n",
    "\n",
    "    return F.log_softmax(x, dim=1)\n",
    "\n",
    "net = Net()\n",
    "net\n"
   ],
   "execution_count": 14,
   "outputs": [
    {
     "output_type": "execute_result",
     "data": {
      "text/plain": [
       "Net(\n",
       "  (fc1): Linear(in_features=784, out_features=64, bias=True)\n",
       "  (fc2): Linear(in_features=64, out_features=64, bias=True)\n",
       "  (fc3): Linear(in_features=64, out_features=64, bias=True)\n",
       "  (fc4): Linear(in_features=64, out_features=10, bias=True)\n",
       ")"
      ]
     },
     "metadata": {
      "tags": []
     },
     "execution_count": 14
    }
   ]
  },
  {
   "cell_type": "code",
   "metadata": {
    "id": "Ba8VUxS-pFk_",
    "colab_type": "code",
    "colab": {}
   },
   "source": [
    "X = torch.rand((28, 28))\n",
    "X = X.view(-1,28*28)\n",
    "#  -1 in view method is the hint to the pytorch to fill this dimension by itself, for us it doesn't matter, what is the number is there"
   ],
   "execution_count": 0,
   "outputs": []
  },
  {
   "cell_type": "code",
   "metadata": {
    "id": "pAwIgbc666ID",
    "colab_type": "code",
    "colab": {}
   },
   "source": [
    "output = net(X)"
   ],
   "execution_count": 0,
   "outputs": []
  },
  {
   "cell_type": "code",
   "metadata": {
    "id": "eA876Mxa7Ael",
    "colab_type": "code",
    "colab": {
     "base_uri": "https://localhost:8080/",
     "height": 51
    },
    "outputId": "54adedf3-96ac-4aeb-b608-3f2a6f1a41ba"
   },
   "source": [
    "output"
   ],
   "execution_count": 17,
   "outputs": [
    {
     "output_type": "execute_result",
     "data": {
      "text/plain": [
       "tensor([[-2.2528, -2.2875, -2.3527, -2.3339, -2.3212, -2.3338, -2.1494, -2.4171,\n",
       "         -2.2818, -2.3185]], grad_fn=<LogSoftmaxBackward>)"
      ]
     },
     "metadata": {
      "tags": []
     },
     "execution_count": 17
    }
   ]
  },
  {
   "cell_type": "code",
   "metadata": {
    "id": "6mtF9xvT9b0o",
    "colab_type": "code",
    "colab": {
     "base_uri": "https://localhost:8080/",
     "height": 68
    },
    "outputId": "2f486679-06d8-4387-a2d8-a0873c6eba90"
   },
   "source": [
    "import torch.optim as optim\n",
    "optimizer = optim.Adam(net.parameters(), lr = 0.001)\n",
    "\n",
    "# number of passes through the whole of dataset\n",
    "EPOCHS = 3\n",
    "\n",
    "for epoch in range(EPOCHS):\n",
    "  for data in trainset:\n",
    "    # data is a batch of featuresets and labels\n",
    "    X, y = data\n",
    "    # we need to set the gradients to zero because through passing the batches they accumulating\n",
    "    net.zero_grad()\n",
    "    output = net(X.view(-1, 28*28))\n",
    "    \n",
    "    # our true value is a scalar, therefore, we can't use just MSE, instead of it we will use nll_loss\n",
    "    loss = F.nll_loss(output, y)\n",
    "    loss.backward()\n",
    "    optimizer.step()\n",
    "\n",
    "  print(loss)\n",
    "\n"
   ],
   "execution_count": 18,
   "outputs": [
    {
     "output_type": "stream",
     "text": [
      "tensor(0.0126, grad_fn=<NllLossBackward>)\n",
      "tensor(0.7481, grad_fn=<NllLossBackward>)\n",
      "tensor(0.0015, grad_fn=<NllLossBackward>)\n"
     ],
     "name": "stdout"
    }
   ]
  },
  {
   "cell_type": "code",
   "metadata": {
    "id": "L50L4IkCDOzf",
    "colab_type": "code",
    "colab": {
     "base_uri": "https://localhost:8080/",
     "height": 34
    },
    "outputId": "36f40e6b-db04-4275-be8a-8359028c7ca3"
   },
   "source": [
    "correct = 0\n",
    "total = 0\n",
    "with torch.no_grad():\n",
    "  for data in trainset:\n",
    "    X, y = data\n",
    "    output = net(X.view(-1, 784))\n",
    "    for idx, i in enumerate(output):\n",
    "      if torch.argmax(i) == y[idx]:\n",
    "        correct += 1\n",
    "      total += 1\n",
    "\n",
    "print(\"Accuracy: \", round(correct/total, 3))"
   ],
   "execution_count": 19,
   "outputs": [
    {
     "output_type": "stream",
     "text": [
      "Accuracy:  0.978\n"
     ],
     "name": "stdout"
    }
   ]
  },
  {
   "cell_type": "code",
   "metadata": {
    "id": "7onpnP8KEv68",
    "colab_type": "code",
    "colab": {
     "base_uri": "https://localhost:8080/",
     "height": 265
    },
    "outputId": "025e6341-71dc-443d-8023-fb2ec39df66e"
   },
   "source": [
    "plt.imshow(X[0].view(28,28))\n",
    "plt.show()"
   ],
   "execution_count": 20,
   "outputs": [
    {
     "output_type": "display_data",
     "data": {
      "image/png": "[encoded data removed]",
      "text/plain": [
       "<Figure size 432x288 with 1 Axes>"
      ]
     },
     "metadata": {
      "tags": [],
      "needs_background": "light"
     }
    }
   ]
  },
  {
   "cell_type": "code",
   "metadata": {
    "id": "RBWzYZvxFekL",
    "colab_type": "code",
    "colab": {
     "base_uri": "https://localhost:8080/",
     "height": 34
    },
    "outputId": "493f5345-aa35-4af1-feb9-f3e5187ae468"
   },
   "source": [
    "print(torch.argmax(net(X[0].view(-1, 784))[0]))"
   ],
   "execution_count": 23,
   "outputs": [
    {
     "output_type": "stream",
     "text": [
      "tensor(9, grad_fn=<NotImplemented>)\n"
     ],
     "name": "stdout"
    }
   ]
  },
  {
   "cell_type": "markdown",
   "metadata": {
    "id": "i598jCiSHWYt",
    "colab_type": "text"
   },
   "source": [
    "#Introduction to the Convolution networks\n",
    "\n",
    "\n",
    "---\n",
    "\n",
    "\n",
    "\n",
    "Convolution networks are used usually for image tasks but recently CNN outperform recurent NN in sequency type of data.\n",
    "\n",
    "Convolution goal is to locate features. The box is convolutional kernel, it ends up with the number which means the found features. So CNN is just dramatically simplify the image and gets the features from it.\n",
    "\n",
    "\n",
    "\n",
    "![example](https://www.researchgate.net/profile/Konstantin_Pervunin/publication/309487032/figure/fig2/AS:422116370718724@1477651793847/a-Illustration-of-the-operation-principle-of-the-convolution-kernel-convolutional-layer.png)\n",
    "\n",
    "Usually after convolution procedure starts pooling, which is basically finds the maximum number from the kernel and leave it in the cell.\n",
    "The 1st layer of CNN tries to divide your image by easiest parts like corners, edges, curves. Then, the 2nd layer is trying to find the patterns a bit more complex like circles, rectangles and so on. The 3rd searches for combination of circles and rectangles and so on. "
   ]
  },
  {
   "cell_type": "code",
   "metadata": {
    "id": "F1Hp4mwcFquJ",
    "colab_type": "code",
    "colab": {}
   },
   "source": [
    ""
   ],
   "execution_count": 0,
   "outputs": []
  }
 ]
}